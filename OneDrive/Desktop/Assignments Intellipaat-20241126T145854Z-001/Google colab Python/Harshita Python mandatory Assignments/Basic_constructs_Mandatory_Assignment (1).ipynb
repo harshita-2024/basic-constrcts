{
  "nbformat": 4,
  "nbformat_minor": 0,
  "metadata": {
    "colab": {
      "provenance": []
    },
    "kernelspec": {
      "name": "python3",
      "display_name": "Python 3"
    },
    "language_info": {
      "name": "python"
    }
  },
  "cells": [
    {
      "cell_type": "markdown",
      "source": [
        "**BASIC CONSTRUCTS MANADATORY ASSIGNMENT**"
      ],
      "metadata": {
        "id": "ORaiy5oduGfQ"
      }
    },
    {
      "cell_type": "code",
      "source": [
        "\n",
        "#Q1. Using Python script as a calculator\n",
        "#Create the variables n, r, p and assign them values 10, 5, and 100 respectively.\n",
        "#Then evaluate the following expression in the python console.\n",
        "#A=p * (1+ r/ 100)**n\n",
        "n =10\n",
        "r =5\n",
        "p =100\n",
        "# a. 100\n",
        "# b. 162.89\n",
        "# c. 189\n",
        "# d. None of the above\n",
        "\n",
        "print (162.89)"
      ],
      "metadata": {
        "id": "TS2NVUDuv_Pm",
        "colab": {
          "base_uri": "https://localhost:8080/"
        },
        "outputId": "d5fca443-239e-42fc-d309-37c151adbdf4"
      },
      "execution_count": null,
      "outputs": [
        {
          "output_type": "stream",
          "name": "stdout",
          "text": [
            "162.89\n"
          ]
        }
      ]
    },
    {
      "cell_type": "code",
      "source": [
        " #Q2. In a given string format operation, how will you print the given string.\n",
        "A = 10\n",
        "B = 20\n",
        "Str = \"There are {} students in the class, with {} who play at least one sport.\"\n",
        "# a. print(string.format(a,b))\n",
        "# b. print(string+a+b)\n",
        "# c. print(string.format(b,a))\n",
        "# d. None of the above\n",
        "print('string.format(a,b)')"
      ],
      "metadata": {
        "id": "wTB48f2U0uiJ",
        "colab": {
          "base_uri": "https://localhost:8080/"
        },
        "outputId": "07a3ef33-ccbe-40ee-8e5a-5895cb3f667c"
      },
      "execution_count": null,
      "outputs": [
        {
          "output_type": "stream",
          "name": "stdout",
          "text": [
            "string.format(a,b)\n"
          ]
        }
      ]
    },
    {
      "cell_type": "code",
      "source": [
        "#Q3. In a given sample string, How do you print a double quoted string in\n",
        "#between aregular string using the escape character?\n",
        "#Sample output = It goes without saying, “Time is Money”, and none can deny it.\n",
        "# a. print(“It goes without saying, \\“Time is Money\\”, and none can deny it.”)\n",
        "# b. print(“It goes without saying, \\Time is Money\\, and none can deny it.”)\n",
        "# c. print(“It goes without saying” + “Time is Money” + “and none can deny it.”)\n",
        "# d. None of the above.\n",
        "\n",
        "print('It goes without saying, \\“Time is Money\\”, and none candeny it.')"
      ],
      "metadata": {
        "id": "cGLHkfuu1CBY",
        "colab": {
          "base_uri": "https://localhost:8080/"
        },
        "outputId": "08fde2d7-fa6e-4228-b90e-0fac46d6945b"
      },
      "execution_count": null,
      "outputs": [
        {
          "output_type": "stream",
          "name": "stdout",
          "text": [
            "It goes without saying, \\“Time is Money\\”, and none candeny it.\n"
          ]
        }
      ]
    },
    {
      "cell_type": "code",
      "source": [
        "#Q4. What will be the output of the following code?\n",
        "#x = lambda a,b: a//b\n",
        "#x(10,3)\n",
        "#a. 3.3333333333\n",
        "#b. 3\n",
        "#c. 30\n",
        "#d. 1000\n",
        "\n",
        "print(3)"
      ],
      "metadata": {
        "id": "BoPWjxXi-eYj",
        "colab": {
          "base_uri": "https://localhost:8080/"
        },
        "outputId": "f5f57dac-e17e-452e-f29a-f5636d19b4ca"
      },
      "execution_count": null,
      "outputs": [
        {
          "output_type": "stream",
          "name": "stdout",
          "text": [
            "3\n"
          ]
        }
      ]
    },
    {
      "cell_type": "code",
      "source": [
        "#Q5. What will be the output of the following code?\n",
        "#A = 10\n",
        "#B = 12\n",
        "#print(\"Smaller\") if A == B else print(\"Greater\") if A < B else print(\"True\")\n",
        "#a. true\n",
        "#b. Smaller\n",
        "#c. Greater\n",
        "#d. none of the above\n",
        "\n",
        "print(\"Greater\")\n"
      ],
      "metadata": {
        "id": "iXs1WOm2-_9W",
        "colab": {
          "base_uri": "https://localhost:8080/"
        },
        "outputId": "b611f7c5-679f-43f5-9ed3-a5a0c0c2e39d"
      },
      "execution_count": null,
      "outputs": [
        {
          "output_type": "stream",
          "name": "stdout",
          "text": [
            "Greater\n"
          ]
        }
      ]
    },
    {
      "cell_type": "code",
      "source": [
        "#Q6.What will be the output of the following code?\n",
        "import numpy as np\n",
        "my_list1=[2,7,3,5,4,6]\n",
        "print (my_list1)\n",
        "arr_1= np.array(my_list1, dtype= int)\n",
        "print(arr_1)\n",
        "\n",
        "#a. [2 7 3 5 4 6]\n",
        "#b. TypeError\n",
        "#c. NameError: name 'numpy' is not defined\n",
        "#d. None of the above\n",
        "\n",
        "print('[2 7 3 5 4 6]')"
      ],
      "metadata": {
        "id": "VE7apVC2T1Tu",
        "colab": {
          "base_uri": "https://localhost:8080/"
        },
        "outputId": "253dd79d-ea54-46ef-c102-460c511430b4"
      },
      "execution_count": null,
      "outputs": [
        {
          "output_type": "stream",
          "name": "stdout",
          "text": [
            "[2, 7, 3, 5, 4, 6]\n",
            "[2 7 3 5 4 6]\n",
            "[2 7 3 5 4 6]\n"
          ]
        }
      ]
    },
    {
      "cell_type": "code",
      "source": [
        "#Q7.Create a string called ‘string’ with the value as “Machine Learning”. Which code(s)\n",
        "#is/are appropriate to slice the substring “Learn”?\n",
        "#a.string[slice(13,8,1)]\n",
        "#b.string[slice(1,8,1)]\n",
        "#c.string[8:14]\n",
        "#d.string[slice(8,13,1)]\n",
        "print(\"string[slice(8,13,1)]\")"
      ],
      "metadata": {
        "id": "6D6HbrIKcmrQ",
        "colab": {
          "base_uri": "https://localhost:8080/"
        },
        "outputId": "7a384e9b-4c47-47d6-9c00-3e1d5a46eb1b"
      },
      "execution_count": null,
      "outputs": [
        {
          "output_type": "stream",
          "name": "stdout",
          "text": [
            "string[slice(8,13,1)]\n"
          ]
        }
      ]
    },
    {
      "cell_type": "code",
      "source": [
        "#Q8 Create a sequence of numbers from 10 to 25 and increment by 4\n",
        "#What is the index of the value 18?\n",
        "# a.3\n",
        "# b.2\n",
        "# c.0\n",
        "# d.1\n",
        "print(\"2\")\n"
      ],
      "metadata": {
        "id": "dsOZWaqBfqfr",
        "colab": {
          "base_uri": "https://localhost:8080/"
        },
        "outputId": "eccacb0b-2495-4778-fb14-a2de6797d48e"
      },
      "execution_count": null,
      "outputs": [
        {
          "output_type": "stream",
          "name": "stdout",
          "text": [
            "2\n"
          ]
        }
      ]
    },
    {
      "cell_type": "code",
      "source": [
        "\n",
        "#Q9. Which of the following is true with respect to the below codes?\n",
        "#num1=5**4\n",
        "#num2=pow(5,4)\n",
        "#a num1 = num2\n",
        "#b num1 ≠ num2\n",
        "#c. num1 < num2\n",
        "#d. num1 > num2\n",
        "\n",
        "print('num1 = num2')"
      ],
      "metadata": {
        "id": "bsjrCjUjgDlE",
        "colab": {
          "base_uri": "https://localhost:8080/"
        },
        "outputId": "ae9d572f-d22a-4d60-97a9-cc4ba2dbb8fe"
      },
      "execution_count": null,
      "outputs": [
        {
          "output_type": "stream",
          "name": "stdout",
          "text": [
            "num1 = num2\n"
          ]
        }
      ]
    },
    {
      "cell_type": "code",
      "source": [
        "#Q10.A Python NameError exception is raised when: -\n",
        "#a. Trying to access a variable which has not been defined\n",
        "#b. Trying to access a key in a dictionary that does not exist\n",
        "#c. Accessing a column with misspelled column name\n",
        "#d. Accessing the function from a module that has not been imported\n",
        "\n",
        "print('Trying to access a variable which has not been defined')\n",
        "\n"
      ],
      "metadata": {
        "id": "fL4FCbqV8sWf",
        "colab": {
          "base_uri": "https://localhost:8080/"
        },
        "outputId": "6e0b9a90-98be-4edf-ba40-f7c14fdaf78b"
      },
      "execution_count": null,
      "outputs": [
        {
          "output_type": "stream",
          "name": "stdout",
          "text": [
            "Trying to access a variable which has not been defined\n"
          ]
        }
      ]
    },
    {
      "cell_type": "code",
      "source": [
        "#Q11.What type of exception will be raised for the code given below?\n",
        "#x=\"string\"\n",
        "#int (x)\n",
        "#a. NameError\n",
        "#b. KeyError\n",
        "#c. ValueError\n",
        "#d. AttributeError\n",
        "\n",
        "print('ValueError')\n",
        "\n",
        "\n",
        "\n"
      ],
      "metadata": {
        "colab": {
          "base_uri": "https://localhost:8080/"
        },
        "id": "neFTpCeQMY6M",
        "outputId": "a8c9ff4b-b65a-4d5e-f533-4dea8584adc9"
      },
      "execution_count": null,
      "outputs": [
        {
          "output_type": "stream",
          "name": "stdout",
          "text": [
            "ValueError\n"
          ]
        }
      ]
    },
    {
      "cell_type": "code",
      "source": [
        "#Q12.A FileNotFoundError exception is raised by operating system errors when: -\n",
        "#a. Trying to create a file or directory which already exists\n",
        "#b. A file or directory is requested but does not exist in the working directory\n",
        "#c. Trying to run an operation without the adequate access rights\n",
        "#d. A directory operation, os.listdir() is requested on something which is not a\n",
        "#directory\n",
        "\n",
        "print('A file or directory is requested but does not exist in the working directory')"
      ],
      "metadata": {
        "colab": {
          "base_uri": "https://localhost:8080/"
        },
        "id": "ONqqgq8DQNbc",
        "outputId": "3aad75cc-2da1-4b0f-f6eb-a18899af74a0"
      },
      "execution_count": null,
      "outputs": [
        {
          "output_type": "stream",
          "name": "stdout",
          "text": [
            "A file or directory is requested but does not exist in the working directory\n"
          ]
        }
      ]
    },
    {
      "cell_type": "code",
      "source": [
        "# Q13.Consider a variable Z. The value of Z is \"ID-5632\". Data type of Z is: -\n",
        "# a.Complex\n",
        "# b.Character\n",
        "# c.Integer\n",
        "# d.Boolean\n",
        "\n",
        "print('String')\n",
        "\n",
        "\n"
      ],
      "metadata": {
        "colab": {
          "base_uri": "https://localhost:8080/"
        },
        "id": "K-yG7Bm2Rqkp",
        "outputId": "47884efb-d06c-44da-b52c-39e01c571075"
      },
      "execution_count": null,
      "outputs": [
        {
          "output_type": "stream",
          "name": "stdout",
          "text": [
            "String\n"
          ]
        }
      ]
    },
    {
      "cell_type": "code",
      "source": [
        "# Q14.Which of the following variable(s) are character data type?\n",
        "# a. K= “4”\n",
        "# b. J= “Welcome”\n",
        "# c. L= “?”\n",
        "# d. All of the above\n",
        "\n",
        "print('All of the above')"
      ],
      "metadata": {
        "colab": {
          "base_uri": "https://localhost:8080/"
        },
        "id": "bQ9TBXbJSQUc",
        "outputId": "85c83a45-2077-4d3e-e9a7-b81d8a51785d"
      },
      "execution_count": null,
      "outputs": [
        {
          "output_type": "stream",
          "name": "stdout",
          "text": [
            "All of the above\n"
          ]
        }
      ]
    },
    {
      "cell_type": "code",
      "source": [
        "# Q15.Choose the symbol/s that does not have the ability to convert any values to string?\n",
        "# a.( )\n",
        "# b.“ ”\n",
        "# c.{}\n",
        "# d.#\n",
        "\n",
        "print('{}')\n",
        "\n"
      ],
      "metadata": {
        "colab": {
          "base_uri": "https://localhost:8080/"
        },
        "id": "gX29xp5oStdF",
        "outputId": "9588e2cf-bb18-4b2d-968f-8db2324945da"
      },
      "execution_count": null,
      "outputs": [
        {
          "output_type": "stream",
          "name": "stdout",
          "text": [
            "{}\n"
          ]
        }
      ]
    },
    {
      "cell_type": "code",
      "source": [
        "#Q16.Create a dictionary ‘Country’ that maps the following countries to their capitals\n",
        "#respectively:\n",
        "import pandas as pd\n",
        "from IPython.core.display import display, HTML\n",
        "\n",
        "#create the table data\n",
        "Country={\"India\":\"Delhi\",\"China\":\"Beijing\",\"Japan\":\n",
        "\"Tokyo\",\"Qatar\":\"Doha\",\"France\":\"Marseilles\"}\n",
        "print(Country)\n",
        "# Assign \"Paris\" to the \"France\" key directly\n",
        "Country[\"France\"]=\"Paris\"\n",
        "#Alternatively, you can use update to modify multiple keys\n",
        "# Country.update({\"France\":\"Paris\", \"another_key\":\"another_value\"})\n",
        "print(Country)\n"
      ],
      "metadata": {
        "id": "xappq4woTrIG",
        "colab": {
          "base_uri": "https://localhost:8080/"
        },
        "outputId": "ff57ca47-8c30-4f3e-adca-af25cd48225d"
      },
      "execution_count": null,
      "outputs": [
        {
          "output_type": "stream",
          "name": "stdout",
          "text": [
            "{'India': 'Delhi', 'China': 'Beijing', 'Japan': 'Tokyo', 'Qatar': 'Doha', 'France': 'Marseilles'}\n",
            "{'India': 'Delhi', 'China': 'Beijing', 'Japan': 'Tokyo', 'Qatar': 'Doha', 'France': 'Paris'}\n"
          ]
        }
      ]
    },
    {
      "cell_type": "code",
      "source": [
        "#Q17.Create the tuples given belowtuple_1 =(1,5,6,7,8)tuple_2 =(8,9,4)Identify which of the following code does not work on a tuple.\n",
        "#a.sum(tuple_1)\n",
        "#b.len(tuple_2)\n",
        "#c.tuple_2 +tuple_1\n",
        "#d.tuple_1[3]= 45[48]\n",
        "print ('tuple_1[3]= 45[48]')"
      ],
      "metadata": {
        "colab": {
          "base_uri": "https://localhost:8080/"
        },
        "id": "sxzELGkygwrL",
        "outputId": "720167fc-7e4a-43cd-c522-2f5546a3841f"
      },
      "execution_count": null,
      "outputs": [
        {
          "output_type": "stream",
          "name": "stdout",
          "text": [
            "tuple_1[3]= 45[48]\n"
          ]
        }
      ]
    },
    {
      "cell_type": "code",
      "source": [
        "#Q18. How many elements in the following data structure?\n",
        "#S={1,2,3,4,4,4,5,6}:\n",
        "S={1,2,3,4,4,4,5,6}\n",
        "len(S)\n",
        "print('6')"
      ],
      "metadata": {
        "colab": {
          "base_uri": "https://localhost:8080/"
        },
        "id": "VBCDSlckhtS_",
        "outputId": "aebb1f97-a0a3-4bd2-9358-5f9bacb4add3"
      },
      "execution_count": null,
      "outputs": [
        {
          "output_type": "stream",
          "name": "stdout",
          "text": [
            "6\n"
          ]
        }
      ]
    },
    {
      "cell_type": "code",
      "source": [
        "#Q19.Write a function which finds all pythagorean triplets of triangles whose sides are no\n",
        "#greater than a natural number N.\n",
        "def pythagorean(n):\n",
        "    # Indent the code block within the function\n",
        "    for a in range(1, n + 1):\n",
        "        for b in range(a, n + 1):\n",
        "            c_sqr = a**2 + b**2\n",
        "            c = int(c_sqr**0.5)\n",
        "            if c_sqr == c**2 and c <= n:\n",
        "                print(a, b, c)\n",
        "\n",
        "pythagorean(35)\n"
      ],
      "metadata": {
        "colab": {
          "base_uri": "https://localhost:8080/"
        },
        "id": "_AxaQbwBitAZ",
        "outputId": "a213e78d-ed3a-4eb8-8a95-dc2f90fbfe8d"
      },
      "execution_count": null,
      "outputs": [
        {
          "output_type": "stream",
          "name": "stdout",
          "text": [
            "3 4 5\n",
            "5 12 13\n",
            "6 8 10\n",
            "7 24 25\n",
            "8 15 17\n",
            "9 12 15\n",
            "10 24 26\n",
            "12 16 20\n",
            "15 20 25\n",
            "16 30 34\n",
            "18 24 30\n",
            "20 21 29\n",
            "21 28 35\n"
          ]
        }
      ]
    }
  ]
}