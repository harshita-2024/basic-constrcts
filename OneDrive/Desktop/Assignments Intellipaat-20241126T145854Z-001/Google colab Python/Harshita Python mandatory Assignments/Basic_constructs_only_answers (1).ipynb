{
  "cells": [
    {
      "cell_type": "code",
      "source": [
        "n=10\n",
        "r=5\n",
        "p=100\n",
        "A= p*(1 + r/ 100)**n\n",
        "print(A)"
      ],
      "metadata": {
        "colab": {
          "base_uri": "https://localhost:8080/"
        },
        "id": "g4ybDmVQSK2-",
        "outputId": "fd085eca-92d2-4733-a576-cdb359a9d6f8"
      },
      "execution_count": null,
      "outputs": [
        {
          "output_type": "stream",
          "name": "stdout",
          "text": [
            "162.8894626777442\n"
          ]
        }
      ]
    },
    {
      "cell_type": "code",
      "source": [
        "A = 10\n",
        "B = 20\n",
        "Str = \"There are {} students in the class, with {} who play at least one sport.\"\n",
        "print('string.format(a,b)')"
      ],
      "metadata": {
        "colab": {
          "base_uri": "https://localhost:8080/"
        },
        "id": "RF-4NgfHk_cR",
        "outputId": "ee95430f-d5d5-4826-a9a3-66f77fbd2a67"
      },
      "execution_count": null,
      "outputs": [
        {
          "output_type": "stream",
          "name": "stdout",
          "text": [
            "string.format(a,b)\n"
          ]
        }
      ]
    },
    {
      "cell_type": "code",
      "source": [
        "# a. print(“It goes without saying, \\“Time is Money\\”, and none can deny it.”)\n",
        "# b. print(“It goes without saying, \\Time is Money\\, and none can deny it.”)\n",
        "# c. print(“It goes without saying” + “Time is Money” + “and none can deny it.”)\n",
        "# d. None of the above.\n",
        "\n",
        "print('It goes without saying, \\“Time is Money\\”, and none candeny it.')\n",
        "\n",
        "\n",
        "\n"
      ],
      "metadata": {
        "colab": {
          "base_uri": "https://localhost:8080/"
        },
        "id": "W7xYFZsGlUM7",
        "outputId": "9b18e33a-a832-4cb7-f947-26fbc18ea10f"
      },
      "execution_count": null,
      "outputs": [
        {
          "output_type": "stream",
          "name": "stdout",
          "text": [
            "It goes without saying, \\“Time is Money\\”, and none candeny it.\n"
          ]
        }
      ]
    },
    {
      "cell_type": "code",
      "source": [
        "#x = lambda a,b: a//b\n",
        "#x(10,3)\n",
        "#a. 3.3333333333\n",
        "#b. 3\n",
        "#c. 30\n",
        "#d. 1000\n",
        "print(3)"
      ],
      "metadata": {
        "colab": {
          "base_uri": "https://localhost:8080/"
        },
        "id": "vvFRtugxm4cA",
        "outputId": "0acc9ac7-b372-4e60-f724-fe0c675518f3"
      },
      "execution_count": null,
      "outputs": [
        {
          "output_type": "stream",
          "name": "stdout",
          "text": [
            "3\n"
          ]
        }
      ]
    },
    {
      "cell_type": "code",
      "source": [
        "#A = 10\n",
        "#B = 12\n",
        "#print(\"Smaller\") if A == B else print(\"Greater\") if A < B else print(\"True\")\n",
        "#a. true\n",
        "#b. Smaller\n",
        "#c. Greater\n",
        "#d. none of the above\n",
        "\n",
        "print(\"Greater\")"
      ],
      "metadata": {
        "colab": {
          "base_uri": "https://localhost:8080/"
        },
        "id": "Wgb3Jj7HnEl0",
        "outputId": "2c95be32-da5b-4778-cdc8-644b88c86768"
      },
      "execution_count": null,
      "outputs": [
        {
          "output_type": "stream",
          "name": "stdout",
          "text": [
            "Greater\n"
          ]
        }
      ]
    },
    {
      "cell_type": "code",
      "source": [
        "import numpy as np\n",
        "my_list1=[2,7,3,5,4,6]\n",
        "print (my_list1)\n",
        "arr_1= np.array(my_list1, dtype= int)\n",
        "print(arr_1)\n"
      ],
      "metadata": {
        "colab": {
          "base_uri": "https://localhost:8080/"
        },
        "id": "So3IC42DnUm-",
        "outputId": "5eebbc88-0116-47db-eb36-fcf0fae7683c"
      },
      "execution_count": null,
      "outputs": [
        {
          "output_type": "stream",
          "name": "stdout",
          "text": [
            "[2, 7, 3, 5, 4, 6]\n",
            "[2 7 3 5 4 6]\n"
          ]
        }
      ]
    },
    {
      "cell_type": "code",
      "source": [
        "\n",
        "#a.string[slice(13,8,1)]\n",
        "#b.string[slice(1,8,1)]\n",
        "#c.string[8:14]\n",
        "#d.string[slice(8,13,1)]\n",
        "print(\"string[slice(8,13,1)]\")"
      ],
      "metadata": {
        "colab": {
          "base_uri": "https://localhost:8080/"
        },
        "id": "X9DIAA-VoL_m",
        "outputId": "9e3f54c6-8ae3-425d-d269-ca5d58c4f908"
      },
      "execution_count": null,
      "outputs": [
        {
          "output_type": "stream",
          "name": "stdout",
          "text": [
            "string[slice(8,13,1)]\n"
          ]
        }
      ]
    },
    {
      "cell_type": "code",
      "source": [
        "\n",
        "# a.3\n",
        "# b.2\n",
        "# c.0\n",
        "# d.1\n",
        "print(\"2\")"
      ],
      "metadata": {
        "colab": {
          "base_uri": "https://localhost:8080/"
        },
        "id": "C3woaUIvoQ7k",
        "outputId": "362015a9-16fb-479f-dc6c-84905000be89"
      },
      "execution_count": null,
      "outputs": [
        {
          "output_type": "stream",
          "name": "stdout",
          "text": [
            "2\n"
          ]
        }
      ]
    },
    {
      "cell_type": "code",
      "source": [
        "#num1=5**4\n",
        "#num2=pow(5,4)\n",
        "#a num1 = num2\n",
        "#b num1 ≠ num2\n",
        "#c. num1 < num2\n",
        "#d. num1 > num2\n",
        "\n",
        "print('num1 = num2')"
      ],
      "metadata": {
        "colab": {
          "base_uri": "https://localhost:8080/"
        },
        "id": "UlU5lXWNoaj6",
        "outputId": "99b726d9-7b5a-4cf0-e047-e61ac1720125"
      },
      "execution_count": null,
      "outputs": [
        {
          "output_type": "stream",
          "name": "stdout",
          "text": [
            "num1 = num2\n"
          ]
        }
      ]
    },
    {
      "cell_type": "code",
      "source": [
        "#a. Trying to access a variable which has not been defined\n",
        "#b. Trying to access a key in a dictionary that does not exist\n",
        "#c. Accessing a column with misspelled column name\n",
        "#d. Accessing the function from a module that has not been imported\n",
        "\n",
        "print('Trying to access a variable which has not been defined')\n"
      ],
      "metadata": {
        "colab": {
          "base_uri": "https://localhost:8080/"
        },
        "id": "--E4uvLPohzy",
        "outputId": "e1d35ad1-b85a-4b1b-bc2b-1606f6fe8489"
      },
      "execution_count": null,
      "outputs": [
        {
          "output_type": "stream",
          "name": "stdout",
          "text": [
            "Trying to access a variable which has not been defined\n"
          ]
        }
      ]
    },
    {
      "cell_type": "code",
      "source": [
        "\n",
        "#x=\"string\"\n",
        "#int (x)\n",
        "\n",
        "print('ValueError')"
      ],
      "metadata": {
        "colab": {
          "base_uri": "https://localhost:8080/"
        },
        "id": "Ps_BszUXoz7j",
        "outputId": "2d15bf7a-1a36-49de-8be8-f2fdd40233fe"
      },
      "execution_count": null,
      "outputs": [
        {
          "output_type": "stream",
          "name": "stdout",
          "text": [
            "ValueError\n"
          ]
        }
      ]
    },
    {
      "cell_type": "code",
      "source": [
        "\n",
        "#a. Trying to create a file or directory which already exists\n",
        "#b. A file or directory is requested but does not exist in the working directory\n",
        "#c. Trying to run an operation without the adequate access rights\n",
        "#d. A directory operation, os.listdir() is requested on something which is not a\n",
        "#directory\n",
        "print('A file or directory is requested but does not exist in the working directory')\n"
      ],
      "metadata": {
        "colab": {
          "base_uri": "https://localhost:8080/"
        },
        "id": "O_yq8kE_uz8W",
        "outputId": "fa745898-b80c-4049-cb35-3a50e237ba79"
      },
      "execution_count": null,
      "outputs": [
        {
          "output_type": "stream",
          "name": "stdout",
          "text": [
            "A file or directory is requested but does not exist in the working directory\n"
          ]
        }
      ]
    },
    {
      "cell_type": "code",
      "source": [
        "#Consider a variable Z. The value of Z is \"ID-5632\". Data type of Z is: -\n",
        "# a.Complex\n",
        "# b.Character\n",
        "# c.Integer\n",
        "# d.Boolean\n",
        "print('String')\n",
        "\n",
        "\n"
      ],
      "metadata": {
        "colab": {
          "base_uri": "https://localhost:8080/"
        },
        "id": "4-ocngtSu0XO",
        "outputId": "212e5c60-85eb-4355-aa61-976a44970631"
      },
      "execution_count": null,
      "outputs": [
        {
          "output_type": "stream",
          "name": "stdout",
          "text": [
            "String\n"
          ]
        }
      ]
    },
    {
      "cell_type": "code",
      "source": [
        "#Which of the following variable(s) are character data type?\n",
        "# a. K= “4”\n",
        "# b. J= “Welcome”\n",
        "# c. L= “?”\n",
        "# d. All of the above\n",
        "\n",
        "print('All of the above')"
      ],
      "metadata": {
        "colab": {
          "base_uri": "https://localhost:8080/"
        },
        "id": "MrdJ9Q2Vv0PA",
        "outputId": "3bc69172-f1ed-4ac2-feec-8ad6d30d486d"
      },
      "execution_count": null,
      "outputs": [
        {
          "output_type": "stream",
          "name": "stdout",
          "text": [
            "All of the above\n"
          ]
        }
      ]
    },
    {
      "cell_type": "code",
      "source": [
        "#Choose the symbol/s that does not have the ability to convert any values to string?\n",
        "# a.( )\n",
        "# b.“ ”\n",
        "# c.{}\n",
        "# d.#\n",
        "\n",
        "print('{}')"
      ],
      "metadata": {
        "colab": {
          "base_uri": "https://localhost:8080/"
        },
        "id": "HL-8LfJ8v1Sh",
        "outputId": "30976534-9002-4f79-f6ec-7a89be5a7054"
      },
      "execution_count": null,
      "outputs": [
        {
          "output_type": "stream",
          "name": "stdout",
          "text": [
            "{}\n"
          ]
        }
      ]
    },
    {
      "cell_type": "code",
      "source": [
        "import pandas as pd\n",
        "from IPython.core.display import display, HTML\n",
        "\n",
        "#create the table data\n",
        "Country={\"India\":\"Delhi\",\"China\":\"Beijing\",\"Japan\":\n",
        "\"Tokyo\",\"Qatar\":\"Doha\",\"France\":\"Marseilles\"}\n",
        "print(Country)\n",
        "# Assign \"Paris\" to the \"France\" key directly\n",
        "Country[\"France\"]=\"Paris\"\n",
        "#Alternatively, you can use update to modify multiple keys\n",
        "# Country.update({\"France\":\"Paris\", \"another_key\":\"another_value\"})\n",
        "print(Country)"
      ],
      "metadata": {
        "colab": {
          "base_uri": "https://localhost:8080/"
        },
        "id": "SH6m5NlHv1qW",
        "outputId": "6a55771d-35b7-405f-9f1c-3c20ed52b784"
      },
      "execution_count": null,
      "outputs": [
        {
          "output_type": "stream",
          "name": "stdout",
          "text": [
            "{'India': 'Delhi', 'China': 'Beijing', 'Japan': 'Tokyo', 'Qatar': 'Doha', 'France': 'Marseilles'}\n",
            "{'India': 'Delhi', 'China': 'Beijing', 'Japan': 'Tokyo', 'Qatar': 'Doha', 'France': 'Paris'}\n"
          ]
        }
      ]
    },
    {
      "cell_type": "code",
      "source": [
        "#Create the tuples given belowtuple_1 =(1,5,6,7,8)tuple_2 =(8,9,4)Identify which of the following code does not work on a tuple.\n",
        "#a.sum(tuple_1)\n",
        "#b.len(tuple_2)\n",
        "#c.tuple_2 +tuple_1\n",
        "#d.tuple_1[3]= 45[48]\n",
        "print ('tuple_1[3]= 45[48]')"
      ],
      "metadata": {
        "colab": {
          "base_uri": "https://localhost:8080/"
        },
        "id": "fBwMY9Ytwb9r",
        "outputId": "3ef8b093-af49-4899-e6fd-62383941e479"
      },
      "execution_count": null,
      "outputs": [
        {
          "output_type": "stream",
          "name": "stdout",
          "text": [
            "tuple_1[3]= 45[48]\n"
          ]
        }
      ]
    },
    {
      "cell_type": "code",
      "source": [
        "\n",
        "#S={1,2,3,4,4,4,5,6}:\n",
        "S={1,2,3,4,4,4,5,6}\n",
        "len(S)\n",
        "print('6')"
      ],
      "metadata": {
        "colab": {
          "base_uri": "https://localhost:8080/"
        },
        "id": "edrEhtRBwcHo",
        "outputId": "6fa46f2c-c828-4503-9616-ef587a9b51e5"
      },
      "execution_count": null,
      "outputs": [
        {
          "output_type": "stream",
          "name": "stdout",
          "text": [
            "6\n"
          ]
        }
      ]
    },
    {
      "cell_type": "code",
      "source": [
        "def pythagorean(n):\n",
        "    # Indent the code block within the function\n",
        "    for a in range(1, n + 1):\n",
        "        for b in range(a, n + 1):\n",
        "            c_sqr = a**2 + b**2\n",
        "            c = int(c_sqr**0.5)\n",
        "            if c_sqr == c**2 and c <= n:\n",
        "                print(a, b, c)\n",
        "\n",
        "pythagorean(35)\n"
      ],
      "metadata": {
        "colab": {
          "base_uri": "https://localhost:8080/"
        },
        "id": "uW43VsB_wcUo",
        "outputId": "84974a40-dd49-4eaa-c9a7-eda8a8227c94"
      },
      "execution_count": null,
      "outputs": [
        {
          "output_type": "stream",
          "name": "stdout",
          "text": [
            "3 4 5\n",
            "5 12 13\n",
            "6 8 10\n",
            "7 24 25\n",
            "8 15 17\n",
            "9 12 15\n",
            "10 24 26\n",
            "12 16 20\n",
            "15 20 25\n",
            "16 30 34\n",
            "18 24 30\n",
            "20 21 29\n",
            "21 28 35\n"
          ]
        }
      ]
    }
  ],
  "metadata": {
    "colab": {
      "provenance": []
    },
    "kernelspec": {
      "display_name": "Python 3",
      "name": "python3"
    },
    "language_info": {
      "name": "python"
    }
  },
  "nbformat": 4,
  "nbformat_minor": 0
}