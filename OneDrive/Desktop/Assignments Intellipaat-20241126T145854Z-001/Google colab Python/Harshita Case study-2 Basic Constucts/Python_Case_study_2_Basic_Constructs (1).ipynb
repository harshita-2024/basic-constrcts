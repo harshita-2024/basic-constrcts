{
  "nbformat": 4,
  "nbformat_minor": 0,
  "metadata": {
    "colab": {
      "provenance": []
    },
    "kernelspec": {
      "name": "python3",
      "display_name": "Python 3"
    },
    "language_info": {
      "name": "python"
    }
  },
  "cells": [
    {
      "cell_type": "code",
      "execution_count": null,
      "metadata": {
        "colab": {
          "base_uri": "https://localhost:8080/"
        },
        "id": "Nymud0dOw04C",
        "outputId": "66d7684c-6035-4cba-9488-63c9158fef87"
      },
      "outputs": [
        {
          "output_type": "stream",
          "name": "stdout",
          "text": [
            "(10, 20, 30, 40, 50, 60)\n",
            "30\n",
            "(10, 20, 30)\n",
            "(40, 50, 60)\n",
            "(40, 50, 60)\n"
          ]
        }
      ],
      "source": [
        "                                                        ##Case study-2 Module-1 Introduction to Python Basic constructs\n",
        "\n",
        "#1.Create 1st tuple with values -> (10,20,30), 2nd tuple with values -> (40,50,60).\n",
        "#a. Concatenate the two tuples and store it in “t_combine”\n",
        "#b. Repeat the elements of “t_combine” 3 times\n",
        "#c. Access the 3rd element from “t_combine”\n",
        "#d. Access the first three elements from “t_combine”\n",
        "#e. Access the last three elements from “t_combine”\n",
        "\n",
        "#Ans1)t1 = (10,20,30)\n",
        "t2 = (40,50,60)\n",
        "\n",
        "#a)t_combine = t1 + t2\n",
        "t_combine = t1 + t2\n",
        "print(t_combine)\n",
        "\n",
        "\n",
        "#b) t_combine * 3\n",
        "print(t_combine[2])\n",
        "\n",
        "#c)Access the 3rd element from “t_combine”\n",
        "print(t_combine[:3])\n",
        "\n",
        "#d)Access the first three elements from “t_combine”\n",
        "print(t_combine[3:])\n",
        "\n",
        "#e)Access the last three elements from “t_combine”\n",
        "print(t_combine[3:])\n"
      ]
    },
    {
      "cell_type": "code",
      "source": [
        "#2)Create a list ‘my_list’ with these elements:\n",
        "#a. First element is a tuple with values 1,2,3 b.\n",
        "#b.Second element is a tuple with values “a”,”b”,”c” c.\n",
        "#c.Third element is a tuple with values True,False\n",
        "\n",
        "#Ans2)\n",
        "my_list = [(1,2,3),('a','b','c'),(True,False)]\n",
        "print(my_list)\n"
      ],
      "metadata": {
        "colab": {
          "base_uri": "https://localhost:8080/"
        },
        "id": "6L0jz1hBHHKt",
        "outputId": "cd8b083b-7ecc-4e64-b89b-9be970247318"
      },
      "execution_count": null,
      "outputs": [
        {
          "output_type": "stream",
          "name": "stdout",
          "text": [
            "[(1, 2, 3), ('a', 'b', 'c'), (True, False)]\n"
          ]
        }
      ]
    },
    {
      "cell_type": "code",
      "source": [
        "#3)Append a new tuple – (1,’a’,True) to ‘my_list’\n",
        "#a. Append a new list – [“sparta”,123]+ to my_list\n",
        "#Ans3)\n",
        "new_tuple = (1,'a',True) # Define new_tuple before using it\n",
        "my_list += new_tuple\n",
        "my_list\n",
        "#a)\n",
        "new_list = [\"sparta\",123]\n",
        "my_list = my_list + new_list # Removed the extra space before this line\n",
        "my_list"
      ],
      "metadata": {
        "colab": {
          "base_uri": "https://localhost:8080/"
        },
        "id": "p1BrdqzRhHb9",
        "outputId": "9d40dab3-4a4d-4734-cf8d-a08dc35af34d"
      },
      "execution_count": null,
      "outputs": [
        {
          "output_type": "execute_result",
          "data": {
            "text/plain": [
              "[(1, 2, 3),\n",
              " ('a', 'b', 'c'),\n",
              " (True, False),\n",
              " 1,\n",
              " 'a',\n",
              " True,\n",
              " 1,\n",
              " 'a',\n",
              " True,\n",
              " 'sparta',\n",
              " 123]"
            ]
          },
          "metadata": {},
          "execution_count": 57
        }
      ]
    },
    {
      "cell_type": "code",
      "source": [
        "#4)Create a dictionary ‘fruit’ where:\n",
        "#a. The first key is ‘Fruit’ and the values are (“Apple”,”Banana”,”Mango”,”Guava”)\n",
        "#b. The second key is ‘Cost’ and the values are (85,54,120,70)\n",
        "#c. Extract all the keys from ‘fruit’\n",
        "#d. Extract all the values from ‘fruit’\n",
        "#Ans4)\n",
        "#a. The first key is ‘Fruit’ and the values are (“Apple”, “Banana”, “Mango”,\n",
        "#“Guava”)\n",
        "fruit = {'Fruit': ('Apple', 'Banana', 'Mango', 'Guava') , 'Cost': (85, 54, 120, 70)}\n",
        "print(fruit)\n",
        "\n",
        "\n",
        "#b. The second key is ‘Cost’ and the values are (85, 54, 120, 70)\n",
        "cost = fruit['Cost']\n",
        "print(cost)\n",
        "\n",
        "#c. Extract all the keys from ‘fruit’\n",
        "print(fruit.keys())\n",
        "\n",
        "#d. Extract all the values from ‘fruit’\n",
        "print(fruit.values())"
      ],
      "metadata": {
        "colab": {
          "base_uri": "https://localhost:8080/"
        },
        "id": "mYqicvlSkYj6",
        "outputId": "b614ceaf-4f4f-4814-a454-10b9a34ad60d"
      },
      "execution_count": null,
      "outputs": [
        {
          "output_type": "stream",
          "name": "stdout",
          "text": [
            "{'Fruit': ('Apple', 'Banana', 'Mango', 'Guava'), 'Cost': (85, 54, 120, 70)}\n",
            "(85, 54, 120, 70)\n",
            "dict_keys(['Fruit', 'Cost'])\n",
            "dict_values([('Apple', 'Banana', 'Mango', 'Guava'), (85, 54, 120, 70)])\n"
          ]
        }
      ]
    },
    {
      "cell_type": "code",
      "source": [
        "#5. Create a set named ‘my_set’ with values (1, 1, “a”, “a”, True, True) and\n",
        "#print the result\n",
        "#Ans5)\n",
        "my_set = {1, 1, 'a', 'a', True, True}\n",
        "print(my_set)"
      ],
      "metadata": {
        "colab": {
          "base_uri": "https://localhost:8080/"
        },
        "id": "zRpVLygw09px",
        "outputId": "23582fa6-cfe9-4802-faa3-2653977cb2cb"
      },
      "execution_count": null,
      "outputs": [
        {
          "output_type": "stream",
          "name": "stdout",
          "text": [
            "{1, 'a'}\n"
          ]
        }
      ]
    }
  ]
}